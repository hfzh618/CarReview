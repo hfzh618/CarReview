{
 "cells": [
  {
   "cell_type": "markdown",
   "metadata": {},
   "source": [
    "# 观察数据"
   ]
  },
  {
   "cell_type": "markdown",
   "metadata": {},
   "source": [
    "首先加载所有需要的包"
   ]
  },
  {
   "cell_type": "code",
   "execution_count": 58,
   "metadata": {},
   "outputs": [],
   "source": [
    "import jieba\n",
    "import pandas as pd\n",
    "import numpy as np\n",
    "from sklearn import preprocessing, decomposition, model_selection, metrics, pipeline\n",
    "from sklearn.model_selection import train_test_split\n",
    "from sklearn.feature_extraction.text import TfidfVectorizer, CountVectorizer\n",
    "from sklearn.linear_model import LogisticRegression\n",
    "from sklearn.ensemble import RandomForestClassifier\n",
    "\n"
   ]
  },
  {
   "cell_type": "markdown",
   "metadata": {},
   "source": [
    "加载数据 "
   ]
  },
  {
   "cell_type": "code",
   "execution_count": 10,
   "metadata": {},
   "outputs": [],
   "source": [
    "train = pd.read_csv('data/input/train.csv')\n",
    "test = pd.read_csv('data/input/test_public.csv')\n",
    "sample = pd.read_csv('data/input/submit_example.csv')"
   ]
  },
  {
   "cell_type": "code",
   "execution_count": 11,
   "metadata": {},
   "outputs": [
    {
     "data": {
      "text/html": [
       "<div>\n",
       "<style scoped>\n",
       "    .dataframe tbody tr th:only-of-type {\n",
       "        vertical-align: middle;\n",
       "    }\n",
       "\n",
       "    .dataframe tbody tr th {\n",
       "        vertical-align: top;\n",
       "    }\n",
       "\n",
       "    .dataframe thead th {\n",
       "        text-align: right;\n",
       "    }\n",
       "</style>\n",
       "<table border=\"1\" class=\"dataframe\">\n",
       "  <thead>\n",
       "    <tr style=\"text-align: right;\">\n",
       "      <th></th>\n",
       "      <th>content_id</th>\n",
       "      <th>content</th>\n",
       "      <th>subject</th>\n",
       "      <th>sentiment_value</th>\n",
       "      <th>sentiment_word</th>\n",
       "    </tr>\n",
       "  </thead>\n",
       "  <tbody>\n",
       "    <tr>\n",
       "      <th>0</th>\n",
       "      <td>vUXizsqexyZVRdFH</td>\n",
       "      <td>因为森林人即将换代，这套系统没必要装在一款即将换代的车型上，因为肯定会影响价格。</td>\n",
       "      <td>价格</td>\n",
       "      <td>0</td>\n",
       "      <td>影响</td>\n",
       "    </tr>\n",
       "    <tr>\n",
       "      <th>1</th>\n",
       "      <td>4QroPd9hNfnCHVt7</td>\n",
       "      <td>四驱价格貌似挺高的，高的可以看齐XC60了，看实车前脸有点违和感。不过大众的车应该不会差。</td>\n",
       "      <td>价格</td>\n",
       "      <td>-1</td>\n",
       "      <td>高</td>\n",
       "    </tr>\n",
       "    <tr>\n",
       "      <th>2</th>\n",
       "      <td>QmqJ2AvM5GplaRyz</td>\n",
       "      <td>斯柯达要说质量，似乎比大众要好一点，价格也低一些，用料完全一样。我听说过野帝，但没听说过你说...</td>\n",
       "      <td>价格</td>\n",
       "      <td>1</td>\n",
       "      <td>低</td>\n",
       "    </tr>\n",
       "    <tr>\n",
       "      <th>3</th>\n",
       "      <td>KMT1gFJiU4NWrVDn</td>\n",
       "      <td>这玩意都是给有钱任性又不懂车的土豪用的，这价格换一次我妹夫EP020可以换三锅了</td>\n",
       "      <td>价格</td>\n",
       "      <td>-1</td>\n",
       "      <td>有钱任性</td>\n",
       "    </tr>\n",
       "    <tr>\n",
       "      <th>4</th>\n",
       "      <td>nVIlGd5yMmc37t1o</td>\n",
       "      <td>17价格忒高，估计也就是14-15左右。</td>\n",
       "      <td>价格</td>\n",
       "      <td>-1</td>\n",
       "      <td>高</td>\n",
       "    </tr>\n",
       "  </tbody>\n",
       "</table>\n",
       "</div>"
      ],
      "text/plain": [
       "         content_id                                            content  \\\n",
       "0  vUXizsqexyZVRdFH           因为森林人即将换代，这套系统没必要装在一款即将换代的车型上，因为肯定会影响价格。   \n",
       "1  4QroPd9hNfnCHVt7      四驱价格貌似挺高的，高的可以看齐XC60了，看实车前脸有点违和感。不过大众的车应该不会差。   \n",
       "2  QmqJ2AvM5GplaRyz  斯柯达要说质量，似乎比大众要好一点，价格也低一些，用料完全一样。我听说过野帝，但没听说过你说...   \n",
       "3  KMT1gFJiU4NWrVDn           这玩意都是给有钱任性又不懂车的土豪用的，这价格换一次我妹夫EP020可以换三锅了   \n",
       "4  nVIlGd5yMmc37t1o                            17价格忒高，估计也就是14-15左右。      \n",
       "\n",
       "  subject  sentiment_value sentiment_word  \n",
       "0      价格                0             影响  \n",
       "1      价格               -1              高  \n",
       "2      价格                1              低  \n",
       "3      价格               -1           有钱任性  \n",
       "4      价格               -1              高  "
      ]
     },
     "execution_count": 11,
     "metadata": {},
     "output_type": "execute_result"
    }
   ],
   "source": [
    "train.head()"
   ]
  },
  {
   "cell_type": "code",
   "execution_count": 13,
   "metadata": {
    "scrolled": true
   },
   "outputs": [
    {
     "data": {
      "text/html": [
       "<div>\n",
       "<style scoped>\n",
       "    .dataframe tbody tr th:only-of-type {\n",
       "        vertical-align: middle;\n",
       "    }\n",
       "\n",
       "    .dataframe tbody tr th {\n",
       "        vertical-align: top;\n",
       "    }\n",
       "\n",
       "    .dataframe thead th {\n",
       "        text-align: right;\n",
       "    }\n",
       "</style>\n",
       "<table border=\"1\" class=\"dataframe\">\n",
       "  <thead>\n",
       "    <tr style=\"text-align: right;\">\n",
       "      <th></th>\n",
       "      <th>content_id</th>\n",
       "      <th>content</th>\n",
       "    </tr>\n",
       "  </thead>\n",
       "  <tbody>\n",
       "    <tr>\n",
       "      <th>0</th>\n",
       "      <td>XuPwKCnA2fqNh5vm</td>\n",
       "      <td>欧蓝德，价格便宜，森林人太贵啦！</td>\n",
       "    </tr>\n",
       "    <tr>\n",
       "      <th>1</th>\n",
       "      <td>2jNbDn85goX3IuPE</td>\n",
       "      <td>楼主什么时候提的车，南昌优惠多少啊</td>\n",
       "    </tr>\n",
       "    <tr>\n",
       "      <th>2</th>\n",
       "      <td>hLgEADQ8sUnvGFK9</td>\n",
       "      <td>吉林，2.5优惠20000，送三年九次保养，贴膜</td>\n",
       "    </tr>\n",
       "    <tr>\n",
       "      <th>3</th>\n",
       "      <td>nZmM7LQsfr03wUaz</td>\n",
       "      <td>便宜2万的豪华特装，实用配制提升，优惠还给力，确实划算。</td>\n",
       "    </tr>\n",
       "    <tr>\n",
       "      <th>4</th>\n",
       "      <td>pwd8MnrthDqLZafe</td>\n",
       "      <td>如果实在想买就等车展期间，优惠2万，我24.98万入的2.5豪</td>\n",
       "    </tr>\n",
       "  </tbody>\n",
       "</table>\n",
       "</div>"
      ],
      "text/plain": [
       "         content_id                          content\n",
       "0  XuPwKCnA2fqNh5vm             欧蓝德，价格便宜，森林人太贵啦！    \n",
       "1  2jNbDn85goX3IuPE                楼主什么时候提的车，南昌优惠多少啊\n",
       "2  hLgEADQ8sUnvGFK9         吉林，2.5优惠20000，送三年九次保养，贴膜\n",
       "3  nZmM7LQsfr03wUaz     便宜2万的豪华特装，实用配制提升，优惠还给力，确实划算。\n",
       "4  pwd8MnrthDqLZafe  如果实在想买就等车展期间，优惠2万，我24.98万入的2.5豪"
      ]
     },
     "execution_count": 13,
     "metadata": {},
     "output_type": "execute_result"
    }
   ],
   "source": [
    "test.head()"
   ]
  },
  {
   "cell_type": "markdown",
   "metadata": {},
   "source": [
    "all1用来合并训练集和测试集中的content列"
   ]
  },
  {
   "cell_type": "code",
   "execution_count": 18,
   "metadata": {},
   "outputs": [],
   "source": [
    "train_cutted = train[['content']]\n",
    "test_cutted = test[['content']]\n",
    "all1 = train_cutted.append(test_cutted,ignore_index=True)"
   ]
  },
  {
   "cell_type": "code",
   "execution_count": 19,
   "metadata": {},
   "outputs": [
    {
     "data": {
      "text/html": [
       "<div>\n",
       "<style scoped>\n",
       "    .dataframe tbody tr th:only-of-type {\n",
       "        vertical-align: middle;\n",
       "    }\n",
       "\n",
       "    .dataframe tbody tr th {\n",
       "        vertical-align: top;\n",
       "    }\n",
       "\n",
       "    .dataframe thead th {\n",
       "        text-align: right;\n",
       "    }\n",
       "</style>\n",
       "<table border=\"1\" class=\"dataframe\">\n",
       "  <thead>\n",
       "    <tr style=\"text-align: right;\">\n",
       "      <th></th>\n",
       "      <th>content</th>\n",
       "    </tr>\n",
       "  </thead>\n",
       "  <tbody>\n",
       "    <tr>\n",
       "      <th>0</th>\n",
       "      <td>因为森林人即将换代，这套系统没必要装在一款即将换代的车型上，因为肯定会影响价格。</td>\n",
       "    </tr>\n",
       "    <tr>\n",
       "      <th>1</th>\n",
       "      <td>四驱价格貌似挺高的，高的可以看齐XC60了，看实车前脸有点违和感。不过大众的车应该不会差。</td>\n",
       "    </tr>\n",
       "    <tr>\n",
       "      <th>2</th>\n",
       "      <td>斯柯达要说质量，似乎比大众要好一点，价格也低一些，用料完全一样。我听说过野帝，但没听说过你说...</td>\n",
       "    </tr>\n",
       "    <tr>\n",
       "      <th>3</th>\n",
       "      <td>这玩意都是给有钱任性又不懂车的土豪用的，这价格换一次我妹夫EP020可以换三锅了</td>\n",
       "    </tr>\n",
       "    <tr>\n",
       "      <th>4</th>\n",
       "      <td>17价格忒高，估计也就是14-15左右。</td>\n",
       "    </tr>\n",
       "  </tbody>\n",
       "</table>\n",
       "</div>"
      ],
      "text/plain": [
       "                                             content\n",
       "0           因为森林人即将换代，这套系统没必要装在一款即将换代的车型上，因为肯定会影响价格。\n",
       "1      四驱价格貌似挺高的，高的可以看齐XC60了，看实车前脸有点违和感。不过大众的车应该不会差。\n",
       "2  斯柯达要说质量，似乎比大众要好一点，价格也低一些，用料完全一样。我听说过野帝，但没听说过你说...\n",
       "3           这玩意都是给有钱任性又不懂车的土豪用的，这价格换一次我妹夫EP020可以换三锅了\n",
       "4                            17价格忒高，估计也就是14-15左右。   "
      ]
     },
     "execution_count": 19,
     "metadata": {},
     "output_type": "execute_result"
    }
   ],
   "source": [
    "all1.head()"
   ]
  },
  {
   "cell_type": "markdown",
   "metadata": {},
   "source": [
    "预测标签转化"
   ]
  },
  {
   "cell_type": "code",
   "execution_count": 3,
   "metadata": {},
   "outputs": [],
   "source": [
    "lbl_enc = preprocessing.LabelEncoder()\n",
    "lbl_enc.fit([\"动力\", \"价格\", \"内饰\", \"配置\",\"安全性\",\"外观\",\"操控\",\"油耗\",\"空间\",\"舒适性\"])\n",
    "y = lbl_enc.transform(train.subject.values)\n",
    "\n",
    "# xtrain, xvalid, ytrain, yvalid = train_test_split(train.content.values, y, \n",
    "#                                                   stratify=y, \n",
    "#                                                   random_state=42, \n",
    "#                                                   test_size=0.1, shuffle=True)"
   ]
  },
  {
   "cell_type": "code",
   "execution_count": 4,
   "metadata": {},
   "outputs": [
    {
     "data": {
      "text/plain": [
       "array([0, 0, 0, ..., 1, 9, 2])"
      ]
     },
     "execution_count": 4,
     "metadata": {},
     "output_type": "execute_result"
    }
   ],
   "source": [
    "y"
   ]
  },
  {
   "cell_type": "markdown",
   "metadata": {},
   "source": [
    "# 分词"
   ]
  },
  {
   "cell_type": "code",
   "execution_count": 32,
   "metadata": {},
   "outputs": [],
   "source": [
    "import re\n",
    "line = \"Cats are smarter than dogs\"\n",
    "matchObj = re.match( r'(.*) are (.*?) .*', line, re.M|re.I)"
   ]
  },
  {
   "cell_type": "code",
   "execution_count": 33,
   "metadata": {},
   "outputs": [
    {
     "data": {
      "text/plain": [
       "<_sre.SRE_Match object; span=(0, 26), match='Cats are smarter than dogs'>"
      ]
     },
     "execution_count": 33,
     "metadata": {},
     "output_type": "execute_result"
    }
   ],
   "source": [
    "matchObj"
   ]
  },
  {
   "cell_type": "code",
   "execution_count": 21,
   "metadata": {
    "scrolled": true
   },
   "outputs": [
    {
     "name": "stderr",
     "output_type": "stream",
     "text": [
      "Building prefix dict from the default dictionary ...\n",
      "Loading model from cache /var/folders/lq/4cxvdwpx3xvbh36yldhr1cjw0000gn/T/jieba.cache\n",
      "Loading model cost 0.835 seconds.\n",
      "Prefix dict has been built succesfully.\n"
     ]
    }
   ],
   "source": [
    "def chinese_word_cut(mytext):\n",
    "    return \" \".join(jieba.cut(mytext))\n",
    "all1[\"content_cutted\"] = all1.content.apply(chinese_word_cut)"
   ]
  },
  {
   "cell_type": "code",
   "execution_count": 34,
   "metadata": {},
   "outputs": [
    {
     "data": {
      "text/plain": [
       "0        因为 森林 人 即将 换代 ， 这套 系统 没 必要 装在 一款 即将 换代 的 车型 上 ...\n",
       "1        四驱 价格 貌似 挺 高 的 ， 高 的 可以 看齐 XC60 了 ， 看实车 前 脸 有点...\n",
       "2        斯柯达 要说 质量 ， 似乎 比 大众 要 好 一点 ， 价格 也 低 一些 ， 用料 完全...\n",
       "3        这 玩意 都 是 给 有钱 任性 又 不 懂车 的 土豪 用 的 ， 这 价格 换 一次 我...\n",
       "4                   17 价格 忒 高 ， 估计 也 就是 14 - 15 左右 。      \n",
       "5        我 开始 就是 荣放 2.5     森林 人 2.5 二选 一         荣放 主要...\n",
       "6        唉 ， 这货 的 价格 死硬 死硬 的 ， 低配 版 优惠 1 万 据说 已经 罕有 了 。...\n",
       "7          价格 的话 只能 说 一般般 吧 ， 太仓 前段时间 定 的 比 你 便宜 ！        \n",
       "8                           听过 ， 价格 太贵 ， 但 一直 念念不忘        \n",
       "9                                     恭喜 恭喜 ， 这个 优惠 不错 哦 ！\n",
       "10                                   优惠 幅度 不小 了 ， 北京 优惠 八千\n",
       "11            优惠 可以 了 ！ 购进 吧 ！ 买 了 不会 后悔 的 ！ 时间 可鉴 ！      \n",
       "12                                       现在   什么 价   优惠 多少\n",
       "13                            优惠 一 万一   送 贴膜 装甲 脚垫   铁西 庞大\n",
       "14                    我 也 大连 的 ， 最近 也 考虑 入手 森林 人 ， 优惠 太小 了\n",
       "15                               山东 威海 全系 这 才 优惠 3000 ， MD\n",
       "16                                 下手 了 ， 豪导 特供 ， 优惠 1.6 万\n",
       "17                          优惠 了 8000 ， 什么 都 不 送 。        \n",
       "18                 兄弟 2.5 豪导 特供 优惠 1.6 万 可以 下手 吗 ？        \n",
       "19                 恭喜 ， 优惠 多少 ， 我 准备 明天 去 提 ， 2.5 特装 优惠 两万\n",
       "20       什么 车款 ， 多少 优惠 啊 ？ 康桥 我 只能 谈到 优惠 1.5 其他 还 送 什么 ...\n",
       "21                            优惠 1   ， 就 送 行程 记录          \n",
       "22       平常心 吧 ， 我 本来 想买傲 虎 ， 优惠 不 大 ， 钱 不够 ， 改提 森林 人 ，...\n",
       "23                           哈哈 ， 25.48 。 优惠 够 给 力        \n",
       "24       兄弟 ， 我 也 云南 的 ， 你 的 优惠 也 挺 大 的 ， 现在 哪里 来 的 全系 ...\n",
       "25       来 湖北 ， 我 上 月 订 的 2.0 蓝色 时尚 ， 优惠 1 万 3 送 6 次 保养...\n",
       "26                  什么 都 没有 ， 就是 现金 优惠 和 给 了 点 小东西        \n",
       "27       什么 都 没有 ， 就是 现金 优惠 和 给 了 点 小东西 ， 你 最好 先 问问看 有没...\n",
       "28                        原来 最低 也 就 优惠 15000 至 16000      \n",
       "29                                我们 这里 ， 优惠 2000 ， 我 呵呵 了\n",
       "                               ...                        \n",
       "12281     总 觉得 棕色 太 商务 ， 不过 配 银色 车身 倒 是 别 有 一番 味道 ！ 恭喜 ? ?\n",
       "12282    10 款 以前 发动机 加 95 号 汽油 ， 11 款 之后 发动机 改进 后加 92 号...\n",
       "12283    这台 发动机 没听说过 烧 机油 啊 ， 我 刚刚 提了 台 SE11 万公里 ， 目前 跑...\n",
       "12284                          听说 米其林 的 胎 噪音 低 ， 我 也 正在 考虑\n",
       "12285    我 昨天 也 是 试驾 了 2.5 顶配 ， 刹车 是 软 … … 我 还有 个 很 不 满...\n",
       "12286    我 就是 直接 旋转 中间 的 钮   开 空调   默认 吹脚   压缩机 也 好像 工作...\n",
       "12287       是 的 ， 看 动力 选择 和 设计 取向 了 ， 希望 森林 人 还是 那个 森林 人 。\n",
       "12288    以前 都 是 拼 发动机 ， 现在 都 是 拼 变速箱 ， 谁 有 好 的 变速箱 谁 就 ...\n",
       "12289       座椅 上方 有个 上 提 的 拉手 ， 提 着 拉手 后 按 就 可以 ， 角度 不 大 。\n",
       "12290    斯巴鲁 的 中 控屏 都 不是 原车 的 ， 原车 的 屏进 中国 就 被 庞大 集团 换 ...\n",
       "12291    看来 这是 老款 森林 人 又 一个 做工 上 的 问题 ！ 我 的 同样 主 驾驶 屁股 ...\n",
       "12292                                     外观 不要 改太多 ， 硬派 些\n",
       "12293    不管 哪年 的 产物 人家 也 是 Q5 底盘 规格 布局 比 森林 人强 得 不是 一星半...\n",
       "12294    正 解 。 目前 大家 的 油耗 大部分 都 是 0 - 20 的 数据 。 属于 最 省油...\n",
       "12295                               2.5 的 ， 双排 会 丢失 动力 吗 ？\n",
       "12296                   转向 助力   空调   发电机   真空泵 需要 隔 减速 箱 ？\n",
       "12297           我 的 是 16 款 2.0 ， 也 快 2 万公里 了 ， 油耗 8.6 左右 。\n",
       "12298    有 呀 ， 哈哈 。 雪地 里 ， 方向盘 打死 ， 加油 的话 ， 确实 抖 。 不过 是...\n",
       "12299                             可以 设置 的 ， 是不是 碰到 中控 屏膜 了\n",
       "12300                         cvt 这 油耗 不 正常 。 at 也 就 12 撑死\n",
       "12301    对 一分钱 一分货 。 换位 思考 人车 好好 的 可能 特 便宜 卖 你 吗 。 二手车 ...\n",
       "12302    我用 的 是 佳明 导航 ， 跑 长途 的 时候 挂 上 ， 市内 跑 的 时候 取 下来 ...\n",
       "12303                       水温 灯灭了 以后 。 感觉 变速箱 有 保护 ， 不 增档\n",
       "12304    12 款 2.5 xs     4at ，   目前 行驶 10 万公里 。     这个 ...\n",
       "12305                  我 的 也 是 斯巴鲁 ， 你别 踩 刹车 ， 按 开关 就断 了 ，\n",
       "12306    我 觉得 斯巴鲁 的 CVT 比 奥迪 的 CVT 还要 好 ， 新 XV 上 的 CVT ...\n",
       "12307    全时 四 驱仅 比 一般 SUV 车强 一点 ， 肯定 干 不过 Q5 ， XC60 ， 连...\n",
       "12308    哈哈 ， 终于 看到 有人 开始 厌烦 前置 雷达 的 声音 了 ， 这个 亲 ， 那个 声...\n",
       "12309             请教 一下 ， 变速箱 油 ， 差速器 油 ， 火花塞 ， 分别 多久 更换 。\n",
       "12310            求购 二手 １ ４ 款 Ｘ Ｔ 的 后 刹车 总成 。 （ 已 网购 到手 了 ）\n",
       "Name: content_cutted, Length: 12311, dtype: object"
      ]
     },
     "execution_count": 34,
     "metadata": {},
     "output_type": "execute_result"
    }
   ],
   "source": [
    "all1[\"content_cutted\"]"
   ]
  },
  {
   "cell_type": "code",
   "execution_count": 22,
   "metadata": {},
   "outputs": [
    {
     "data": {
      "text/html": [
       "<div>\n",
       "<style scoped>\n",
       "    .dataframe tbody tr th:only-of-type {\n",
       "        vertical-align: middle;\n",
       "    }\n",
       "\n",
       "    .dataframe tbody tr th {\n",
       "        vertical-align: top;\n",
       "    }\n",
       "\n",
       "    .dataframe thead th {\n",
       "        text-align: right;\n",
       "    }\n",
       "</style>\n",
       "<table border=\"1\" class=\"dataframe\">\n",
       "  <thead>\n",
       "    <tr style=\"text-align: right;\">\n",
       "      <th></th>\n",
       "      <th>content</th>\n",
       "      <th>content_cutted</th>\n",
       "    </tr>\n",
       "  </thead>\n",
       "  <tbody>\n",
       "    <tr>\n",
       "      <th>0</th>\n",
       "      <td>因为森林人即将换代，这套系统没必要装在一款即将换代的车型上，因为肯定会影响价格。</td>\n",
       "      <td>因为 森林 人 即将 换代 ， 这套 系统 没 必要 装在 一款 即将 换代 的 车型 上 ...</td>\n",
       "    </tr>\n",
       "    <tr>\n",
       "      <th>1</th>\n",
       "      <td>四驱价格貌似挺高的，高的可以看齐XC60了，看实车前脸有点违和感。不过大众的车应该不会差。</td>\n",
       "      <td>四驱 价格 貌似 挺 高 的 ， 高 的 可以 看齐 XC60 了 ， 看实车 前 脸 有点...</td>\n",
       "    </tr>\n",
       "    <tr>\n",
       "      <th>2</th>\n",
       "      <td>斯柯达要说质量，似乎比大众要好一点，价格也低一些，用料完全一样。我听说过野帝，但没听说过你说...</td>\n",
       "      <td>斯柯达 要说 质量 ， 似乎 比 大众 要 好 一点 ， 价格 也 低 一些 ， 用料 完全...</td>\n",
       "    </tr>\n",
       "    <tr>\n",
       "      <th>3</th>\n",
       "      <td>这玩意都是给有钱任性又不懂车的土豪用的，这价格换一次我妹夫EP020可以换三锅了</td>\n",
       "      <td>这 玩意 都 是 给 有钱 任性 又 不 懂车 的 土豪 用 的 ， 这 价格 换 一次 我...</td>\n",
       "    </tr>\n",
       "    <tr>\n",
       "      <th>4</th>\n",
       "      <td>17价格忒高，估计也就是14-15左右。</td>\n",
       "      <td>17 价格 忒 高 ， 估计 也 就是 14 - 15 左右 。</td>\n",
       "    </tr>\n",
       "  </tbody>\n",
       "</table>\n",
       "</div>"
      ],
      "text/plain": [
       "                                             content  \\\n",
       "0           因为森林人即将换代，这套系统没必要装在一款即将换代的车型上，因为肯定会影响价格。   \n",
       "1      四驱价格貌似挺高的，高的可以看齐XC60了，看实车前脸有点违和感。不过大众的车应该不会差。   \n",
       "2  斯柯达要说质量，似乎比大众要好一点，价格也低一些，用料完全一样。我听说过野帝，但没听说过你说...   \n",
       "3           这玩意都是给有钱任性又不懂车的土豪用的，这价格换一次我妹夫EP020可以换三锅了   \n",
       "4                            17价格忒高，估计也就是14-15左右。      \n",
       "\n",
       "                                      content_cutted  \n",
       "0  因为 森林 人 即将 换代 ， 这套 系统 没 必要 装在 一款 即将 换代 的 车型 上 ...  \n",
       "1  四驱 价格 貌似 挺 高 的 ， 高 的 可以 看齐 XC60 了 ， 看实车 前 脸 有点...  \n",
       "2  斯柯达 要说 质量 ， 似乎 比 大众 要 好 一点 ， 价格 也 低 一些 ， 用料 完全...  \n",
       "3  这 玩意 都 是 给 有钱 任性 又 不 懂车 的 土豪 用 的 ， 这 价格 换 一次 我...  \n",
       "4             17 价格 忒 高 ， 估计 也 就是 14 - 15 左右 。        "
      ]
     },
     "execution_count": 22,
     "metadata": {},
     "output_type": "execute_result"
    }
   ],
   "source": [
    "all1.head()"
   ]
  },
  {
   "cell_type": "code",
   "execution_count": null,
   "metadata": {},
   "outputs": [],
   "source": []
  },
  {
   "cell_type": "markdown",
   "metadata": {},
   "source": [
    "# 向量化"
   ]
  },
  {
   "cell_type": "code",
   "execution_count": 23,
   "metadata": {},
   "outputs": [],
   "source": [
    "vect = CountVectorizer()\n",
    "term_matrix_all = pd.DataFrame(vect.fit_transform(all1[\"content_cutted\"]).toarray(), columns=vect.get_feature_names())"
   ]
  },
  {
   "cell_type": "code",
   "execution_count": 24,
   "metadata": {},
   "outputs": [
    {
     "data": {
      "text/plain": [
       "(12311, 17823)"
      ]
     },
     "execution_count": 24,
     "metadata": {},
     "output_type": "execute_result"
    }
   ],
   "source": [
    "term_matrix_all.shape"
   ]
  },
  {
   "cell_type": "markdown",
   "metadata": {},
   "source": [
    "去掉停用词之后 再进行向量化"
   ]
  },
  {
   "cell_type": "code",
   "execution_count": 25,
   "metadata": {},
   "outputs": [
    {
     "name": "stderr",
     "output_type": "stream",
     "text": [
      "/usr/local/lib/python3.6/site-packages/sklearn/feature_extraction/text.py:300: UserWarning: Your stop_words may be inconsistent with your preprocessing. Tokenizing the stop words generated tokens ['exp', 'lex', '①①', '①②', '①③', '①④', '①⑤', '①⑥', '①⑦', '①⑧', '①⑨', '①ａ', '①ｂ', '①ｃ', '①ｄ', '①ｅ', '①ｆ', '①ｇ', '①ｈ', '①ｉ', '①ｏ', '②①', '②②', '②③', '②④', '②⑤', '②⑥', '②⑦', '②⑧', '②⑩', '②ａ', '②ｂ', '②ｄ', '②ｅ', '②ｆ', '②ｇ', '②ｈ', '②ｉ', '②ｊ', '③①', '③⑩', '③ａ', '③ｂ', '③ｃ', '③ｄ', '③ｅ', '③ｆ', '③ｇ', '③ｈ', '④ａ', '④ｂ', '④ｃ', '④ｄ', '④ｅ', '⑤ａ', '⑤ｂ', '⑤ｄ', '⑤ｅ', '⑤ｆ', '１２', 'ｌｉ', 'ｚｘｆｉｔｌ'] not in stop_words.\n",
      "  'stop_words.' % sorted(inconsistent))\n"
     ]
    }
   ],
   "source": [
    "def get_custom_stopwords(stop_words_file):\n",
    "    with open(stop_words_file) as f:\n",
    "        stopwords = f.read()\n",
    "    stopwords_list = stopwords.split('\\n')\n",
    "    custom_stopwords_list = [i for i in stopwords_list]\n",
    "    return custom_stopwords_list\n",
    "stop_words_file = \"data/stopwordsHIT.txt\"\n",
    "stopwords = get_custom_stopwords(stop_words_file)\n",
    "vect = CountVectorizer(stop_words=frozenset(stopwords))\n",
    "term_matrix_all = pd.DataFrame(vect.fit_transform(all1[\"content_cutted\"]).toarray(), columns=vect.get_feature_names())"
   ]
  },
  {
   "cell_type": "markdown",
   "metadata": {},
   "source": [
    "去掉低频词和高频词后 再进行向量化"
   ]
  },
  {
   "cell_type": "code",
   "execution_count": 26,
   "metadata": {
    "scrolled": true
   },
   "outputs": [
    {
     "name": "stderr",
     "output_type": "stream",
     "text": [
      "/usr/local/lib/python3.6/site-packages/sklearn/feature_extraction/text.py:300: UserWarning: Your stop_words may be inconsistent with your preprocessing. Tokenizing the stop words generated tokens ['exp', 'lex', '①①', '①②', '①③', '①④', '①⑤', '①⑥', '①⑦', '①⑧', '①⑨', '①ａ', '①ｂ', '①ｃ', '①ｄ', '①ｅ', '①ｆ', '①ｇ', '①ｈ', '①ｉ', '①ｏ', '②①', '②②', '②③', '②④', '②⑤', '②⑥', '②⑦', '②⑧', '②⑩', '②ａ', '②ｂ', '②ｄ', '②ｅ', '②ｆ', '②ｇ', '②ｈ', '②ｉ', '②ｊ', '③①', '③⑩', '③ａ', '③ｂ', '③ｃ', '③ｄ', '③ｅ', '③ｆ', '③ｇ', '③ｈ', '④ａ', '④ｂ', '④ｃ', '④ｄ', '④ｅ', '⑤ａ', '⑤ｂ', '⑤ｄ', '⑤ｅ', '⑤ｆ', 'ｌｉ', 'ｚｘｆｉｔｌ'] not in stop_words.\n",
      "  'stop_words.' % sorted(inconsistent))\n"
     ]
    }
   ],
   "source": [
    "max_df = 0.8 # 在超过这一比例的文档中出现的关键词（过于平凡），去除掉。\n",
    "min_df = 3 # 在低于这一数量的文档中出现的关键词（过于独特），去除掉。\n",
    "vect = CountVectorizer(max_df = max_df,\n",
    "                       min_df = min_df,\n",
    "                       token_pattern=u'(?u)\\\\b[^\\\\d\\\\W]\\\\w+\\\\b',\n",
    "                       stop_words=frozenset(stopwords))\n",
    "\n",
    "term_matrix_all = pd.DataFrame(vect.fit_transform(all1[\"content_cutted\"]).toarray(), columns=vect.get_feature_names())"
   ]
  },
  {
   "cell_type": "code",
   "execution_count": 27,
   "metadata": {},
   "outputs": [
    {
     "data": {
      "text/plain": [
       "(12311, 6056)"
      ]
     },
     "execution_count": 27,
     "metadata": {},
     "output_type": "execute_result"
    }
   ],
   "source": [
    "term_matrix_all.shape"
   ]
  },
  {
   "cell_type": "markdown",
   "metadata": {},
   "source": [
    "缩减了单词的维度"
   ]
  },
  {
   "cell_type": "markdown",
   "metadata": {},
   "source": [
    "# model"
   ]
  },
  {
   "cell_type": "markdown",
   "metadata": {},
   "source": [
    "划分训练集和测试集 以及y"
   ]
  },
  {
   "cell_type": "code",
   "execution_count": 29,
   "metadata": {},
   "outputs": [
    {
     "data": {
      "text/plain": [
       "((9947, 6056), (9947,), (2364, 6056))"
      ]
     },
     "execution_count": 29,
     "metadata": {},
     "output_type": "execute_result"
    }
   ],
   "source": [
    "X_train = term_matrix_all.iloc[:9947]\n",
    "Y_train = y\n",
    "X_test  = term_matrix_all.iloc[9947:]\n",
    "X_train.shape, Y_train.shape, X_test.shape"
   ]
  },
  {
   "cell_type": "code",
   "execution_count": 35,
   "metadata": {},
   "outputs": [
    {
     "data": {
      "text/html": [
       "<div>\n",
       "<style scoped>\n",
       "    .dataframe tbody tr th:only-of-type {\n",
       "        vertical-align: middle;\n",
       "    }\n",
       "\n",
       "    .dataframe tbody tr th {\n",
       "        vertical-align: top;\n",
       "    }\n",
       "\n",
       "    .dataframe thead th {\n",
       "        text-align: right;\n",
       "    }\n",
       "</style>\n",
       "<table border=\"1\" class=\"dataframe\">\n",
       "  <thead>\n",
       "    <tr style=\"text-align: right;\">\n",
       "      <th></th>\n",
       "      <th>a180</th>\n",
       "      <th>a4</th>\n",
       "      <th>a4l</th>\n",
       "      <th>a6</th>\n",
       "      <th>a6l</th>\n",
       "      <th>a8</th>\n",
       "      <th>abs</th>\n",
       "      <th>ac</th>\n",
       "      <th>acc</th>\n",
       "      <th>act</th>\n",
       "      <th>...</th>\n",
       "      <th>黑屏</th>\n",
       "      <th>黑桶</th>\n",
       "      <th>黑色</th>\n",
       "      <th>默认</th>\n",
       "      <th>鼻子</th>\n",
       "      <th>齐亮</th>\n",
       "      <th>齐全</th>\n",
       "      <th>齿轮</th>\n",
       "      <th>齿轮油</th>\n",
       "      <th>龙膜</th>\n",
       "    </tr>\n",
       "  </thead>\n",
       "  <tbody>\n",
       "    <tr>\n",
       "      <th>0</th>\n",
       "      <td>0</td>\n",
       "      <td>0</td>\n",
       "      <td>0</td>\n",
       "      <td>0</td>\n",
       "      <td>0</td>\n",
       "      <td>0</td>\n",
       "      <td>0</td>\n",
       "      <td>0</td>\n",
       "      <td>0</td>\n",
       "      <td>0</td>\n",
       "      <td>...</td>\n",
       "      <td>0</td>\n",
       "      <td>0</td>\n",
       "      <td>0</td>\n",
       "      <td>0</td>\n",
       "      <td>0</td>\n",
       "      <td>0</td>\n",
       "      <td>0</td>\n",
       "      <td>0</td>\n",
       "      <td>0</td>\n",
       "      <td>0</td>\n",
       "    </tr>\n",
       "    <tr>\n",
       "      <th>1</th>\n",
       "      <td>0</td>\n",
       "      <td>0</td>\n",
       "      <td>0</td>\n",
       "      <td>0</td>\n",
       "      <td>0</td>\n",
       "      <td>0</td>\n",
       "      <td>0</td>\n",
       "      <td>0</td>\n",
       "      <td>0</td>\n",
       "      <td>0</td>\n",
       "      <td>...</td>\n",
       "      <td>0</td>\n",
       "      <td>0</td>\n",
       "      <td>0</td>\n",
       "      <td>0</td>\n",
       "      <td>0</td>\n",
       "      <td>0</td>\n",
       "      <td>0</td>\n",
       "      <td>0</td>\n",
       "      <td>0</td>\n",
       "      <td>0</td>\n",
       "    </tr>\n",
       "    <tr>\n",
       "      <th>2</th>\n",
       "      <td>0</td>\n",
       "      <td>0</td>\n",
       "      <td>0</td>\n",
       "      <td>0</td>\n",
       "      <td>0</td>\n",
       "      <td>0</td>\n",
       "      <td>0</td>\n",
       "      <td>0</td>\n",
       "      <td>0</td>\n",
       "      <td>0</td>\n",
       "      <td>...</td>\n",
       "      <td>0</td>\n",
       "      <td>0</td>\n",
       "      <td>0</td>\n",
       "      <td>0</td>\n",
       "      <td>0</td>\n",
       "      <td>0</td>\n",
       "      <td>0</td>\n",
       "      <td>0</td>\n",
       "      <td>0</td>\n",
       "      <td>0</td>\n",
       "    </tr>\n",
       "    <tr>\n",
       "      <th>3</th>\n",
       "      <td>0</td>\n",
       "      <td>0</td>\n",
       "      <td>0</td>\n",
       "      <td>0</td>\n",
       "      <td>0</td>\n",
       "      <td>0</td>\n",
       "      <td>0</td>\n",
       "      <td>0</td>\n",
       "      <td>0</td>\n",
       "      <td>0</td>\n",
       "      <td>...</td>\n",
       "      <td>0</td>\n",
       "      <td>0</td>\n",
       "      <td>0</td>\n",
       "      <td>0</td>\n",
       "      <td>0</td>\n",
       "      <td>0</td>\n",
       "      <td>0</td>\n",
       "      <td>0</td>\n",
       "      <td>0</td>\n",
       "      <td>0</td>\n",
       "    </tr>\n",
       "    <tr>\n",
       "      <th>4</th>\n",
       "      <td>0</td>\n",
       "      <td>0</td>\n",
       "      <td>0</td>\n",
       "      <td>0</td>\n",
       "      <td>0</td>\n",
       "      <td>0</td>\n",
       "      <td>0</td>\n",
       "      <td>0</td>\n",
       "      <td>0</td>\n",
       "      <td>0</td>\n",
       "      <td>...</td>\n",
       "      <td>0</td>\n",
       "      <td>0</td>\n",
       "      <td>0</td>\n",
       "      <td>0</td>\n",
       "      <td>0</td>\n",
       "      <td>0</td>\n",
       "      <td>0</td>\n",
       "      <td>0</td>\n",
       "      <td>0</td>\n",
       "      <td>0</td>\n",
       "    </tr>\n",
       "  </tbody>\n",
       "</table>\n",
       "<p>5 rows × 6056 columns</p>\n",
       "</div>"
      ],
      "text/plain": [
       "   a180  a4  a4l  a6  a6l  a8  abs  ac  acc  act ...  黑屏  黑桶  黑色  默认  鼻子  齐亮  \\\n",
       "0     0   0    0   0    0   0    0   0    0    0 ...   0   0   0   0   0   0   \n",
       "1     0   0    0   0    0   0    0   0    0    0 ...   0   0   0   0   0   0   \n",
       "2     0   0    0   0    0   0    0   0    0    0 ...   0   0   0   0   0   0   \n",
       "3     0   0    0   0    0   0    0   0    0    0 ...   0   0   0   0   0   0   \n",
       "4     0   0    0   0    0   0    0   0    0    0 ...   0   0   0   0   0   0   \n",
       "\n",
       "   齐全  齿轮  齿轮油  龙膜  \n",
       "0   0   0    0   0  \n",
       "1   0   0    0   0  \n",
       "2   0   0    0   0  \n",
       "3   0   0    0   0  \n",
       "4   0   0    0   0  \n",
       "\n",
       "[5 rows x 6056 columns]"
      ]
     },
     "execution_count": 35,
     "metadata": {},
     "output_type": "execute_result"
    }
   ],
   "source": [
    "X_train.head()"
   ]
  },
  {
   "cell_type": "markdown",
   "metadata": {},
   "source": [
    "逻辑回归模型"
   ]
  },
  {
   "cell_type": "code",
   "execution_count": 36,
   "metadata": {},
   "outputs": [
    {
     "name": "stderr",
     "output_type": "stream",
     "text": [
      "/usr/local/lib/python3.6/site-packages/sklearn/linear_model/logistic.py:433: FutureWarning: Default solver will be changed to 'lbfgs' in 0.22. Specify a solver to silence this warning.\n",
      "  FutureWarning)\n",
      "/usr/local/lib/python3.6/site-packages/sklearn/linear_model/logistic.py:460: FutureWarning: Default multi_class will be changed to 'auto' in 0.22. Specify the multi_class option to silence this warning.\n",
      "  \"this warning.\", FutureWarning)\n"
     ]
    },
    {
     "data": {
      "text/plain": [
       "81.19"
      ]
     },
     "execution_count": 36,
     "metadata": {},
     "output_type": "execute_result"
    }
   ],
   "source": [
    "logreg = LogisticRegression()\n",
    "logreg.fit(X_train, Y_train)\n",
    "Y_pred = logreg.predict(X_test)\n",
    "acc_log = round(logreg.score(X_train, Y_train) * 100, 2)\n",
    "acc_log"
   ]
  },
  {
   "cell_type": "code",
   "execution_count": 37,
   "metadata": {},
   "outputs": [
    {
     "data": {
      "text/plain": [
       "(2364,)"
      ]
     },
     "execution_count": 37,
     "metadata": {},
     "output_type": "execute_result"
    }
   ],
   "source": [
    "Y_pred.shape"
   ]
  },
  {
   "cell_type": "code",
   "execution_count": 38,
   "metadata": {},
   "outputs": [
    {
     "data": {
      "text/html": [
       "<div>\n",
       "<style scoped>\n",
       "    .dataframe tbody tr th:only-of-type {\n",
       "        vertical-align: middle;\n",
       "    }\n",
       "\n",
       "    .dataframe tbody tr th {\n",
       "        vertical-align: top;\n",
       "    }\n",
       "\n",
       "    .dataframe thead th {\n",
       "        text-align: right;\n",
       "    }\n",
       "</style>\n",
       "<table border=\"1\" class=\"dataframe\">\n",
       "  <thead>\n",
       "    <tr style=\"text-align: right;\">\n",
       "      <th></th>\n",
       "      <th>content_id</th>\n",
       "      <th>content</th>\n",
       "    </tr>\n",
       "  </thead>\n",
       "  <tbody>\n",
       "    <tr>\n",
       "      <th>0</th>\n",
       "      <td>XuPwKCnA2fqNh5vm</td>\n",
       "      <td>欧蓝德，价格便宜，森林人太贵啦！</td>\n",
       "    </tr>\n",
       "    <tr>\n",
       "      <th>1</th>\n",
       "      <td>2jNbDn85goX3IuPE</td>\n",
       "      <td>楼主什么时候提的车，南昌优惠多少啊</td>\n",
       "    </tr>\n",
       "    <tr>\n",
       "      <th>2</th>\n",
       "      <td>hLgEADQ8sUnvGFK9</td>\n",
       "      <td>吉林，2.5优惠20000，送三年九次保养，贴膜</td>\n",
       "    </tr>\n",
       "    <tr>\n",
       "      <th>3</th>\n",
       "      <td>nZmM7LQsfr03wUaz</td>\n",
       "      <td>便宜2万的豪华特装，实用配制提升，优惠还给力，确实划算。</td>\n",
       "    </tr>\n",
       "    <tr>\n",
       "      <th>4</th>\n",
       "      <td>pwd8MnrthDqLZafe</td>\n",
       "      <td>如果实在想买就等车展期间，优惠2万，我24.98万入的2.5豪</td>\n",
       "    </tr>\n",
       "  </tbody>\n",
       "</table>\n",
       "</div>"
      ],
      "text/plain": [
       "         content_id                          content\n",
       "0  XuPwKCnA2fqNh5vm             欧蓝德，价格便宜，森林人太贵啦！    \n",
       "1  2jNbDn85goX3IuPE                楼主什么时候提的车，南昌优惠多少啊\n",
       "2  hLgEADQ8sUnvGFK9         吉林，2.5优惠20000，送三年九次保养，贴膜\n",
       "3  nZmM7LQsfr03wUaz     便宜2万的豪华特装，实用配制提升，优惠还给力，确实划算。\n",
       "4  pwd8MnrthDqLZafe  如果实在想买就等车展期间，优惠2万，我24.98万入的2.5豪"
      ]
     },
     "execution_count": 38,
     "metadata": {},
     "output_type": "execute_result"
    }
   ],
   "source": [
    "test.head()"
   ]
  },
  {
   "cell_type": "code",
   "execution_count": 39,
   "metadata": {},
   "outputs": [],
   "source": [
    "Y_pred_name = lbl_enc.inverse_transform(Y_pred)"
   ]
  },
  {
   "cell_type": "code",
   "execution_count": 40,
   "metadata": {
    "scrolled": false
   },
   "outputs": [
    {
     "data": {
      "text/plain": [
       "array(['价格', '价格', '价格', ..., '舒适性', '动力', '安全性'], dtype='<U3')"
      ]
     },
     "execution_count": 40,
     "metadata": {},
     "output_type": "execute_result"
    }
   ],
   "source": [
    "Y_pred_name"
   ]
  },
  {
   "cell_type": "code",
   "execution_count": 42,
   "metadata": {},
   "outputs": [],
   "source": [
    "test_origin=test\n",
    "test_origin['subject']=Y_pred_name"
   ]
  },
  {
   "cell_type": "code",
   "execution_count": 43,
   "metadata": {},
   "outputs": [],
   "source": [
    "test_origin['sentiment_value']=0\n",
    "test_origin['sentiment_word']='可以'"
   ]
  },
  {
   "cell_type": "code",
   "execution_count": null,
   "metadata": {},
   "outputs": [],
   "source": [
    "test_origin = test_origin.drop(['content'], axis=1)"
   ]
  },
  {
   "cell_type": "code",
   "execution_count": null,
   "metadata": {},
   "outputs": [],
   "source": [
    "test_origin.to_csv('data/output/logReg.csv',index=False)"
   ]
  },
  {
   "cell_type": "code",
   "execution_count": null,
   "metadata": {},
   "outputs": [],
   "source": [
    "pre = pd.read_csv('data/output/LogReg.csv')"
   ]
  },
  {
   "cell_type": "code",
   "execution_count": null,
   "metadata": {},
   "outputs": [],
   "source": [
    "pre.head()"
   ]
  },
  {
   "cell_type": "markdown",
   "metadata": {},
   "source": [
    "## Random Forest"
   ]
  },
  {
   "cell_type": "code",
   "execution_count": 59,
   "metadata": {},
   "outputs": [
    {
     "data": {
      "text/plain": [
       "83.3"
      ]
     },
     "execution_count": 59,
     "metadata": {},
     "output_type": "execute_result"
    }
   ],
   "source": [
    "# Random Forest\n",
    "\n",
    "random_forest = RandomForestClassifier(n_estimators=100)\n",
    "random_forest.fit(X_train, Y_train)\n",
    "Y_pred_RF = random_forest.predict(X_test)\n",
    "random_forest.score(X_train, Y_train)\n",
    "acc_random_forest = round(random_forest.score(X_train, Y_train) * 100, 2)\n",
    "acc_random_forest"
   ]
  },
  {
   "cell_type": "code",
   "execution_count": 61,
   "metadata": {},
   "outputs": [],
   "source": [
    "Y_pred_name_RF = lbl_enc.inverse_transform(Y_pred_RF)"
   ]
  },
  {
   "cell_type": "code",
   "execution_count": 62,
   "metadata": {},
   "outputs": [],
   "source": [
    "test_origin_RF=test\n",
    "test_origin_RF['subject']=Y_pred_name_RF\n",
    "test_origin_RF['sentiment_value']=0\n",
    "test_origin_RF['sentiment_word']='可以'"
   ]
  },
  {
   "cell_type": "code",
   "execution_count": 64,
   "metadata": {},
   "outputs": [],
   "source": [
    "test_origin_RF = test_origin_RF.drop(['content'], axis=1)\n",
    "test_origin_RF.to_csv('data/output/RandomForest.csv',index=False)"
   ]
  },
  {
   "cell_type": "code",
   "execution_count": 66,
   "metadata": {},
   "outputs": [
    {
     "name": "stderr",
     "output_type": "stream",
     "text": [
      "/usr/local/lib/python3.6/site-packages/sklearn/linear_model/stochastic_gradient.py:166: FutureWarning: max_iter and tol parameters have been added in SGDClassifier in 0.19. If both are left unset, they default to max_iter=5 and tol=None. If tol is not None, max_iter defaults to max_iter=1000. From 0.21, default max_iter will be 1000, and default tol will be 1e-3.\n",
      "  FutureWarning)\n"
     ]
    },
    {
     "data": {
      "text/plain": [
       "80.24"
      ]
     },
     "execution_count": 66,
     "metadata": {},
     "output_type": "execute_result"
    }
   ],
   "source": [
    "# Stochastic Gradient Descent\n",
    "from sklearn.linear_model import SGDClassifier\n",
    "\n",
    "sgd = SGDClassifier()\n",
    "sgd.fit(X_train, Y_train)\n",
    "Y_pred_SGD = sgd.predict(X_test)\n",
    "acc_sgd = round(sgd.score(X_train, Y_train) * 100, 2)\n",
    "acc_sgd"
   ]
  },
  {
   "cell_type": "code",
   "execution_count": 67,
   "metadata": {},
   "outputs": [
    {
     "name": "stderr",
     "output_type": "stream",
     "text": [
      "/usr/local/lib/python3.6/site-packages/sklearn/svm/base.py:922: ConvergenceWarning: Liblinear failed to converge, increase the number of iterations.\n",
      "  \"the number of iterations.\", ConvergenceWarning)\n"
     ]
    },
    {
     "data": {
      "text/plain": [
       "83.02"
      ]
     },
     "execution_count": 67,
     "metadata": {},
     "output_type": "execute_result"
    }
   ],
   "source": [
    "# Linear SVC\n",
    "from sklearn.svm import SVC, LinearSVC\n",
    "\n",
    "\n",
    "linear_svc = LinearSVC()\n",
    "linear_svc.fit(X_train, Y_train)\n",
    "Y_pred = linear_svc.predict(X_test)\n",
    "acc_linear_svc = round(linear_svc.score(X_train, Y_train) * 100, 2)\n",
    "acc_linear_svc"
   ]
  },
  {
   "cell_type": "code",
   "execution_count": 68,
   "metadata": {},
   "outputs": [
    {
     "name": "stderr",
     "output_type": "stream",
     "text": [
      "/usr/local/lib/python3.6/site-packages/sklearn/linear_model/stochastic_gradient.py:166: FutureWarning: max_iter and tol parameters have been added in Perceptron in 0.19. If both are left unset, they default to max_iter=5 and tol=None. If tol is not None, max_iter defaults to max_iter=1000. From 0.21, default max_iter will be 1000, and default tol will be 1e-3.\n",
      "  FutureWarning)\n"
     ]
    },
    {
     "data": {
      "text/plain": [
       "79.08"
      ]
     },
     "execution_count": 68,
     "metadata": {},
     "output_type": "execute_result"
    }
   ],
   "source": [
    "# Perceptron\n",
    "from sklearn.linear_model import Perceptron\n",
    "\n",
    "perceptron = Perceptron()\n",
    "perceptron.fit(X_train, Y_train)\n",
    "Y_pred = perceptron.predict(X_test)\n",
    "acc_perceptron = round(perceptron.score(X_train, Y_train) * 100, 2)\n",
    "acc_perceptron"
   ]
  },
  {
   "cell_type": "code",
   "execution_count": 69,
   "metadata": {},
   "outputs": [
    {
     "data": {
      "text/plain": [
       "51.21"
      ]
     },
     "execution_count": 69,
     "metadata": {},
     "output_type": "execute_result"
    }
   ],
   "source": [
    "# Gaussian Naive Bayes\n",
    "from sklearn.naive_bayes import GaussianNB\n",
    "\n",
    "gaussian = GaussianNB()\n",
    "gaussian.fit(X_train, Y_train)\n",
    "Y_pred = gaussian.predict(X_test)\n",
    "acc_gaussian = round(gaussian.score(X_train, Y_train) * 100, 2)\n",
    "acc_gaussian"
   ]
  },
  {
   "cell_type": "code",
   "execution_count": 72,
   "metadata": {},
   "outputs": [
    {
     "data": {
      "text/plain": [
       "73.39"
      ]
     },
     "execution_count": 72,
     "metadata": {},
     "output_type": "execute_result"
    }
   ],
   "source": [
    "from sklearn.neighbors import KNeighborsClassifier\n",
    "# KNN\n",
    "knn = KNeighborsClassifier(n_neighbors = 3)\n",
    "knn.fit(X_train, Y_train)\n",
    "Y_pred = knn.predict(X_test)\n",
    "acc_knn = round(knn.score(X_train, Y_train) * 100, 2)\n",
    "acc_knn"
   ]
  },
  {
   "cell_type": "markdown",
   "metadata": {},
   "source": [
    "# 情感分类"
   ]
  },
  {
   "cell_type": "code",
   "execution_count": 47,
   "metadata": {},
   "outputs": [],
   "source": [
    "y_sentiment = train.sentiment_value.values"
   ]
  },
  {
   "cell_type": "code",
   "execution_count": 48,
   "metadata": {},
   "outputs": [
    {
     "data": {
      "text/plain": [
       "array([ 0, -1,  1, ..., -1, -1,  0])"
      ]
     },
     "execution_count": 48,
     "metadata": {},
     "output_type": "execute_result"
    }
   ],
   "source": [
    "y_sentiment"
   ]
  },
  {
   "cell_type": "code",
   "execution_count": 49,
   "metadata": {},
   "outputs": [
    {
     "data": {
      "text/plain": [
       "((9947, 6056), (9947,), (2364, 6056))"
      ]
     },
     "execution_count": 49,
     "metadata": {},
     "output_type": "execute_result"
    }
   ],
   "source": [
    "X_train_sentiment = term_matrix_all.iloc[:9947]\n",
    "Y_train_sentiment = y_sentiment\n",
    "X_test_sentiment  = term_matrix_all.iloc[9947:]\n",
    "X_train_sentiment.shape, Y_train_sentiment.shape, X_test_sentiment.shape"
   ]
  },
  {
   "cell_type": "code",
   "execution_count": 50,
   "metadata": {},
   "outputs": [
    {
     "name": "stderr",
     "output_type": "stream",
     "text": [
      "/usr/local/lib/python3.6/site-packages/sklearn/linear_model/logistic.py:433: FutureWarning: Default solver will be changed to 'lbfgs' in 0.22. Specify a solver to silence this warning.\n",
      "  FutureWarning)\n",
      "/usr/local/lib/python3.6/site-packages/sklearn/linear_model/logistic.py:460: FutureWarning: Default multi_class will be changed to 'auto' in 0.22. Specify the multi_class option to silence this warning.\n",
      "  \"this warning.\", FutureWarning)\n"
     ]
    },
    {
     "data": {
      "text/plain": [
       "12.53"
      ]
     },
     "execution_count": 50,
     "metadata": {},
     "output_type": "execute_result"
    }
   ],
   "source": [
    "logreg = LogisticRegression()\n",
    "logreg.fit(X_train_sentiment, Y_train_sentiment)\n",
    "Y_pred_sentiment = logreg.predict(X_test_sentiment)\n",
    "acc_log = round(logreg.score(X_train, Y_train) * 100, 2)\n",
    "acc_log"
   ]
  },
  {
   "cell_type": "code",
   "execution_count": 51,
   "metadata": {},
   "outputs": [],
   "source": [
    "test_origin_sentiment=pd.read_csv('data/input/test_public.csv')"
   ]
  },
  {
   "cell_type": "code",
   "execution_count": 52,
   "metadata": {},
   "outputs": [
    {
     "data": {
      "text/html": [
       "<div>\n",
       "<style scoped>\n",
       "    .dataframe tbody tr th:only-of-type {\n",
       "        vertical-align: middle;\n",
       "    }\n",
       "\n",
       "    .dataframe tbody tr th {\n",
       "        vertical-align: top;\n",
       "    }\n",
       "\n",
       "    .dataframe thead th {\n",
       "        text-align: right;\n",
       "    }\n",
       "</style>\n",
       "<table border=\"1\" class=\"dataframe\">\n",
       "  <thead>\n",
       "    <tr style=\"text-align: right;\">\n",
       "      <th></th>\n",
       "      <th>content_id</th>\n",
       "      <th>content</th>\n",
       "    </tr>\n",
       "  </thead>\n",
       "  <tbody>\n",
       "    <tr>\n",
       "      <th>0</th>\n",
       "      <td>XuPwKCnA2fqNh5vm</td>\n",
       "      <td>欧蓝德，价格便宜，森林人太贵啦！</td>\n",
       "    </tr>\n",
       "    <tr>\n",
       "      <th>1</th>\n",
       "      <td>2jNbDn85goX3IuPE</td>\n",
       "      <td>楼主什么时候提的车，南昌优惠多少啊</td>\n",
       "    </tr>\n",
       "    <tr>\n",
       "      <th>2</th>\n",
       "      <td>hLgEADQ8sUnvGFK9</td>\n",
       "      <td>吉林，2.5优惠20000，送三年九次保养，贴膜</td>\n",
       "    </tr>\n",
       "    <tr>\n",
       "      <th>3</th>\n",
       "      <td>nZmM7LQsfr03wUaz</td>\n",
       "      <td>便宜2万的豪华特装，实用配制提升，优惠还给力，确实划算。</td>\n",
       "    </tr>\n",
       "    <tr>\n",
       "      <th>4</th>\n",
       "      <td>pwd8MnrthDqLZafe</td>\n",
       "      <td>如果实在想买就等车展期间，优惠2万，我24.98万入的2.5豪</td>\n",
       "    </tr>\n",
       "  </tbody>\n",
       "</table>\n",
       "</div>"
      ],
      "text/plain": [
       "         content_id                          content\n",
       "0  XuPwKCnA2fqNh5vm             欧蓝德，价格便宜，森林人太贵啦！    \n",
       "1  2jNbDn85goX3IuPE                楼主什么时候提的车，南昌优惠多少啊\n",
       "2  hLgEADQ8sUnvGFK9         吉林，2.5优惠20000，送三年九次保养，贴膜\n",
       "3  nZmM7LQsfr03wUaz     便宜2万的豪华特装，实用配制提升，优惠还给力，确实划算。\n",
       "4  pwd8MnrthDqLZafe  如果实在想买就等车展期间，优惠2万，我24.98万入的2.5豪"
      ]
     },
     "execution_count": 52,
     "metadata": {},
     "output_type": "execute_result"
    }
   ],
   "source": [
    "test_origin_sentiment.head()"
   ]
  },
  {
   "cell_type": "code",
   "execution_count": 53,
   "metadata": {},
   "outputs": [],
   "source": [
    "test_origin_sentiment['subject']=Y_pred_name"
   ]
  },
  {
   "cell_type": "code",
   "execution_count": 54,
   "metadata": {},
   "outputs": [],
   "source": [
    "test_origin_sentiment['sentiment_value']=Y_pred_sentiment"
   ]
  },
  {
   "cell_type": "code",
   "execution_count": 56,
   "metadata": {},
   "outputs": [
    {
     "data": {
      "text/html": [
       "<div>\n",
       "<style scoped>\n",
       "    .dataframe tbody tr th:only-of-type {\n",
       "        vertical-align: middle;\n",
       "    }\n",
       "\n",
       "    .dataframe tbody tr th {\n",
       "        vertical-align: top;\n",
       "    }\n",
       "\n",
       "    .dataframe thead th {\n",
       "        text-align: right;\n",
       "    }\n",
       "</style>\n",
       "<table border=\"1\" class=\"dataframe\">\n",
       "  <thead>\n",
       "    <tr style=\"text-align: right;\">\n",
       "      <th></th>\n",
       "      <th>content_id</th>\n",
       "      <th>content</th>\n",
       "      <th>subject</th>\n",
       "      <th>sentiment_value</th>\n",
       "    </tr>\n",
       "  </thead>\n",
       "  <tbody>\n",
       "    <tr>\n",
       "      <th>0</th>\n",
       "      <td>XuPwKCnA2fqNh5vm</td>\n",
       "      <td>欧蓝德，价格便宜，森林人太贵啦！</td>\n",
       "      <td>价格</td>\n",
       "      <td>1</td>\n",
       "    </tr>\n",
       "    <tr>\n",
       "      <th>1</th>\n",
       "      <td>2jNbDn85goX3IuPE</td>\n",
       "      <td>楼主什么时候提的车，南昌优惠多少啊</td>\n",
       "      <td>价格</td>\n",
       "      <td>0</td>\n",
       "    </tr>\n",
       "    <tr>\n",
       "      <th>2</th>\n",
       "      <td>hLgEADQ8sUnvGFK9</td>\n",
       "      <td>吉林，2.5优惠20000，送三年九次保养，贴膜</td>\n",
       "      <td>价格</td>\n",
       "      <td>0</td>\n",
       "    </tr>\n",
       "    <tr>\n",
       "      <th>3</th>\n",
       "      <td>nZmM7LQsfr03wUaz</td>\n",
       "      <td>便宜2万的豪华特装，实用配制提升，优惠还给力，确实划算。</td>\n",
       "      <td>价格</td>\n",
       "      <td>1</td>\n",
       "    </tr>\n",
       "    <tr>\n",
       "      <th>4</th>\n",
       "      <td>pwd8MnrthDqLZafe</td>\n",
       "      <td>如果实在想买就等车展期间，优惠2万，我24.98万入的2.5豪</td>\n",
       "      <td>价格</td>\n",
       "      <td>0</td>\n",
       "    </tr>\n",
       "    <tr>\n",
       "      <th>5</th>\n",
       "      <td>cudSKGTyMLbIt8k3</td>\n",
       "      <td>2.0时尚优惠两万现金吗？还有其他赠品吗？</td>\n",
       "      <td>价格</td>\n",
       "      <td>0</td>\n",
       "    </tr>\n",
       "    <tr>\n",
       "      <th>6</th>\n",
       "      <td>U5RMQtopwFzDVxHm</td>\n",
       "      <td>27.5 相比较优惠的少</td>\n",
       "      <td>价格</td>\n",
       "      <td>0</td>\n",
       "    </tr>\n",
       "    <tr>\n",
       "      <th>7</th>\n",
       "      <td>Kh0ayJjuTrzwPAs1</td>\n",
       "      <td>综合优惠两万，不是现金优惠两万，送的垃圾东西都包含在内.大忽悠.</td>\n",
       "      <td>价格</td>\n",
       "      <td>0</td>\n",
       "    </tr>\n",
       "    <tr>\n",
       "      <th>8</th>\n",
       "      <td>YZovRtEAyQJgTi1I</td>\n",
       "      <td>差不多15000左右的优惠</td>\n",
       "      <td>价格</td>\n",
       "      <td>0</td>\n",
       "    </tr>\n",
       "    <tr>\n",
       "      <th>9</th>\n",
       "      <td>BeSIAUzoTWH9muYl</td>\n",
       "      <td>恭喜恭喜，这个配置性价比很高</td>\n",
       "      <td>配置</td>\n",
       "      <td>0</td>\n",
       "    </tr>\n",
       "    <tr>\n",
       "      <th>10</th>\n",
       "      <td>SXYTBWg6FxuboMnd</td>\n",
       "      <td>谁还用车载导航呀！用手机导航吧及时性好！而且到港后装的机头不行，在意的话建议去换一个机头顺便...</td>\n",
       "      <td>配置</td>\n",
       "      <td>-1</td>\n",
       "    </tr>\n",
       "    <tr>\n",
       "      <th>11</th>\n",
       "      <td>RDgTmzW9xBfY6pGv</td>\n",
       "      <td>你好，我也是受够了16款的垃圾导航。这个美版主机哪里可以买到？安装后可以完美使用吗，有什么问...</td>\n",
       "      <td>配置</td>\n",
       "      <td>0</td>\n",
       "    </tr>\n",
       "    <tr>\n",
       "      <th>12</th>\n",
       "      <td>8cMwzsxkL4XtuDG1</td>\n",
       "      <td>森林人导航确实垃圾。再好的车再好的导航都没有手机导航好用，我提车后只用了二个多月的车载导航就...</td>\n",
       "      <td>配置</td>\n",
       "      <td>-1</td>\n",
       "    </tr>\n",
       "    <tr>\n",
       "      <th>13</th>\n",
       "      <td>MOUrvjDsIJpbw6dQ</td>\n",
       "      <td>导航现在都用手机的，音箱没有说的那么差，就是低音差点，人声其实还可以。</td>\n",
       "      <td>配置</td>\n",
       "      <td>0</td>\n",
       "    </tr>\n",
       "    <tr>\n",
       "      <th>14</th>\n",
       "      <td>t01PVoDSd9Lsy5HN</td>\n",
       "      <td>黑屏经常发生啊和手机蓝牙，连接后电话打进来根本听不到对方在说什么，想指往导航功能就会让你上火</td>\n",
       "      <td>配置</td>\n",
       "      <td>0</td>\n",
       "    </tr>\n",
       "    <tr>\n",
       "      <th>15</th>\n",
       "      <td>icMQmPJA9Sv0KGTw</td>\n",
       "      <td>传感器是在轮毂里面的，连着气门嘴的，跟轮胎没关系</td>\n",
       "      <td>舒适性</td>\n",
       "      <td>0</td>\n",
       "    </tr>\n",
       "    <tr>\n",
       "      <th>16</th>\n",
       "      <td>VQkjM1657sIroCf3</td>\n",
       "      <td>60肯定是不行的。 原车轮胎的直径=215*0.65*2 15*25.4（一英寸=25.4毫...</td>\n",
       "      <td>舒适性</td>\n",
       "      <td>0</td>\n",
       "    </tr>\n",
       "    <tr>\n",
       "      <th>17</th>\n",
       "      <td>1rGSYnOx9Fb2ULQX</td>\n",
       "      <td>那你们换的什么中控呀？</td>\n",
       "      <td>配置</td>\n",
       "      <td>0</td>\n",
       "    </tr>\n",
       "    <tr>\n",
       "      <th>18</th>\n",
       "      <td>SgNFp8ixQX1HA64y</td>\n",
       "      <td>都这样，提高油号有所减轻。</td>\n",
       "      <td>价格</td>\n",
       "      <td>0</td>\n",
       "    </tr>\n",
       "    <tr>\n",
       "      <th>19</th>\n",
       "      <td>sO6Ac1mThYBKyl4M</td>\n",
       "      <td>你的真费油，我在北京开才9.2</td>\n",
       "      <td>动力</td>\n",
       "      <td>0</td>\n",
       "    </tr>\n",
       "    <tr>\n",
       "      <th>20</th>\n",
       "      <td>qIUiOxGdb0M4PQky</td>\n",
       "      <td>接孩子应该就在城区，这油耗正常的。</td>\n",
       "      <td>油耗</td>\n",
       "      <td>0</td>\n",
       "    </tr>\n",
       "    <tr>\n",
       "      <th>21</th>\n",
       "      <td>6GMYQa0Ag4o9nsZ2</td>\n",
       "      <td>平路上定速８０就是５个左右，我新车１０００公里内都是这样跑的，可以的。高速不过１００会更低，...</td>\n",
       "      <td>油耗</td>\n",
       "      <td>0</td>\n",
       "    </tr>\n",
       "    <tr>\n",
       "      <th>22</th>\n",
       "      <td>6Ewe2kxO5msAg0yU</td>\n",
       "      <td>俩车排量都不行，1.5t昂科威动力不行，比2.0t还费油，你图什么？</td>\n",
       "      <td>动力</td>\n",
       "      <td>-1</td>\n",
       "    </tr>\n",
       "    <tr>\n",
       "      <th>23</th>\n",
       "      <td>PMeBcRxizIaNmAC7</td>\n",
       "      <td>我13款2.5的2w公里就用30了 。 也没见什么不妥，就是油耗高一点而已。</td>\n",
       "      <td>油耗</td>\n",
       "      <td>0</td>\n",
       "    </tr>\n",
       "    <tr>\n",
       "      <th>24</th>\n",
       "      <td>9x4gvon6TfN0KtqY</td>\n",
       "      <td>2000公里，平均油耗9.8的飘过~~~</td>\n",
       "      <td>油耗</td>\n",
       "      <td>0</td>\n",
       "    </tr>\n",
       "    <tr>\n",
       "      <th>25</th>\n",
       "      <td>Er3x8Ks6mpQqeZO0</td>\n",
       "      <td>根据实际经验和车友反映，60-80速度区间相对比较省油。</td>\n",
       "      <td>油耗</td>\n",
       "      <td>0</td>\n",
       "    </tr>\n",
       "    <tr>\n",
       "      <th>26</th>\n",
       "      <td>f5UhrHg6Zztl7VWj</td>\n",
       "      <td>换轮胎应当根据个人用车情况选择，里程少的应偏重舒适性，里程多的偏重轮胎的耐磨指标。舒适性好的...</td>\n",
       "      <td>舒适性</td>\n",
       "      <td>1</td>\n",
       "    </tr>\n",
       "    <tr>\n",
       "      <th>27</th>\n",
       "      <td>fYtbApDWqzGmKX8F</td>\n",
       "      <td>坐标深圳！我开26℃都觉得凉…动力嘛真不好说每个人感受和需求不一样…车子坐4人开了空调我倒觉...</td>\n",
       "      <td>动力</td>\n",
       "      <td>0</td>\n",
       "    </tr>\n",
       "    <tr>\n",
       "      <th>28</th>\n",
       "      <td>YUWFxTOoZCkNzKcu</td>\n",
       "      <td>全车很多电器件都是松下的包括很多继电器，转向机是日本日立的，发电机是三菱的，空调压缩机是法雷...</td>\n",
       "      <td>舒适性</td>\n",
       "      <td>0</td>\n",
       "    </tr>\n",
       "    <tr>\n",
       "      <th>29</th>\n",
       "      <td>hNVSLDr06cMsgwfI</td>\n",
       "      <td>除开这四点 森林人还有很多缺点 比如内饰做工廉价感十足 高速上了120噪音大 CVT牺牲驾驶...</td>\n",
       "      <td>内饰</td>\n",
       "      <td>0</td>\n",
       "    </tr>\n",
       "    <tr>\n",
       "      <th>...</th>\n",
       "      <td>...</td>\n",
       "      <td>...</td>\n",
       "      <td>...</td>\n",
       "      <td>...</td>\n",
       "    </tr>\n",
       "    <tr>\n",
       "      <th>2334</th>\n",
       "      <td>trsL1COIpBSWXMex</td>\n",
       "      <td>总觉得棕色太商务，不过配银色车身倒是别有一番味道！恭喜??</td>\n",
       "      <td>外观</td>\n",
       "      <td>0</td>\n",
       "    </tr>\n",
       "    <tr>\n",
       "      <th>2335</th>\n",
       "      <td>PE5gLlduiYGTzqsn</td>\n",
       "      <td>10款以前发动机加95号汽油，11款之后发动机改进后加92号汽油，但11款以后发动机出现了高...</td>\n",
       "      <td>动力</td>\n",
       "      <td>0</td>\n",
       "    </tr>\n",
       "    <tr>\n",
       "      <th>2336</th>\n",
       "      <td>WgtvsofC74wOIYVb</td>\n",
       "      <td>这台发动机没听说过烧机油啊，我刚刚提了台SE11万公里，目前跑了4000公里没有发现烧机油</td>\n",
       "      <td>动力</td>\n",
       "      <td>0</td>\n",
       "    </tr>\n",
       "    <tr>\n",
       "      <th>2337</th>\n",
       "      <td>H8jYWQ5gMADxtmuh</td>\n",
       "      <td>听说米其林的胎噪音低，我也正在考虑</td>\n",
       "      <td>舒适性</td>\n",
       "      <td>0</td>\n",
       "    </tr>\n",
       "    <tr>\n",
       "      <th>2338</th>\n",
       "      <td>ouMTnWL81gZemPi9</td>\n",
       "      <td>我昨天也是试驾了2.5顶配，刹车是软……我还有个很不满意的是，喇叭太秀气啦……估计买回来得改...</td>\n",
       "      <td>安全性</td>\n",
       "      <td>0</td>\n",
       "    </tr>\n",
       "    <tr>\n",
       "      <th>2339</th>\n",
       "      <td>7pDJV8ab4NjH3r5e</td>\n",
       "      <td>我就是直接旋转中间的钮 开空调 默认吹脚 压缩机也好像工作 ac 没开</td>\n",
       "      <td>舒适性</td>\n",
       "      <td>0</td>\n",
       "    </tr>\n",
       "    <tr>\n",
       "      <th>2340</th>\n",
       "      <td>hGPD9vBZgR6zNV4S</td>\n",
       "      <td>是的，看动力选择和设计取向了，希望森林人还是那个森林人。</td>\n",
       "      <td>动力</td>\n",
       "      <td>0</td>\n",
       "    </tr>\n",
       "    <tr>\n",
       "      <th>2341</th>\n",
       "      <td>2jJXvw58LHgT3RBD</td>\n",
       "      <td>以前都是拼发动机，现在都是拼变速箱，谁有好的变速箱谁就卖得好。</td>\n",
       "      <td>动力</td>\n",
       "      <td>0</td>\n",
       "    </tr>\n",
       "    <tr>\n",
       "      <th>2342</th>\n",
       "      <td>OCkifpF73WQYjoNI</td>\n",
       "      <td>座椅上方有个上提的拉手，提着拉手后按就可以，角度不大。</td>\n",
       "      <td>内饰</td>\n",
       "      <td>0</td>\n",
       "    </tr>\n",
       "    <tr>\n",
       "      <th>2343</th>\n",
       "      <td>XrQJUSeIVhBib86Z</td>\n",
       "      <td>斯巴鲁的中控屏都不是原车的，原车的屏进中国就被庞大集团换了一个山寨的屏。所以不理解他们用那个...</td>\n",
       "      <td>外观</td>\n",
       "      <td>0</td>\n",
       "    </tr>\n",
       "    <tr>\n",
       "      <th>2344</th>\n",
       "      <td>MF2yRZwkDtmozdPS</td>\n",
       "      <td>看来这是老款森林人又一个做工上的问题！我的同样主驾驶屁股不热后背热，并且有其它车友遇到过这个...</td>\n",
       "      <td>内饰</td>\n",
       "      <td>0</td>\n",
       "    </tr>\n",
       "    <tr>\n",
       "      <th>2345</th>\n",
       "      <td>Yu0EUZt54G8fiHOW</td>\n",
       "      <td>外观不要改太多，硬派些</td>\n",
       "      <td>外观</td>\n",
       "      <td>0</td>\n",
       "    </tr>\n",
       "    <tr>\n",
       "      <th>2346</th>\n",
       "      <td>yLhg5NmjCWat4YFV</td>\n",
       "      <td>不管哪年的产物人家也是Q5底盘规格布局比森林人强得不是一星半点，就算傲虎各方面也没有资格去挑...</td>\n",
       "      <td>操控</td>\n",
       "      <td>0</td>\n",
       "    </tr>\n",
       "    <tr>\n",
       "      <th>2347</th>\n",
       "      <td>0GtHsUD3ikzZoX5q</td>\n",
       "      <td>正解。目前大家的油耗大部分都是0-20的数据。属于最省油的机油了。</td>\n",
       "      <td>油耗</td>\n",
       "      <td>0</td>\n",
       "    </tr>\n",
       "    <tr>\n",
       "      <th>2348</th>\n",
       "      <td>S3dNtUixLg2uVkWD</td>\n",
       "      <td>2.5的，双排会丢失动力吗？</td>\n",
       "      <td>动力</td>\n",
       "      <td>0</td>\n",
       "    </tr>\n",
       "    <tr>\n",
       "      <th>2349</th>\n",
       "      <td>xJ1wWtb9TsYkKO5X</td>\n",
       "      <td>转向助力 空调 发电机 真空泵需要隔减速箱？</td>\n",
       "      <td>舒适性</td>\n",
       "      <td>0</td>\n",
       "    </tr>\n",
       "    <tr>\n",
       "      <th>2350</th>\n",
       "      <td>lr0sCcFamRVfPHn5</td>\n",
       "      <td>我的是16款2.0，也快2万公里了，油耗8.6左右。</td>\n",
       "      <td>油耗</td>\n",
       "      <td>0</td>\n",
       "    </tr>\n",
       "    <tr>\n",
       "      <th>2351</th>\n",
       "      <td>H6y17JaXzxADtqer</td>\n",
       "      <td>有呀，哈哈。雪地里，方向盘打死，加油的话，确实抖。不过是后轮抖，但是前当的雪咋办？</td>\n",
       "      <td>操控</td>\n",
       "      <td>0</td>\n",
       "    </tr>\n",
       "    <tr>\n",
       "      <th>2352</th>\n",
       "      <td>DJES3mRatNG7AMwz</td>\n",
       "      <td>可以设置的，是不是碰到中控屏膜了</td>\n",
       "      <td>配置</td>\n",
       "      <td>0</td>\n",
       "    </tr>\n",
       "    <tr>\n",
       "      <th>2353</th>\n",
       "      <td>GdPUZvlCm438WtS5</td>\n",
       "      <td>cvt这油耗不正常。at也就12撑死</td>\n",
       "      <td>油耗</td>\n",
       "      <td>0</td>\n",
       "    </tr>\n",
       "    <tr>\n",
       "      <th>2354</th>\n",
       "      <td>m1rOC6jMweNH2Q9J</td>\n",
       "      <td>对一分钱一分货。换位思考人车好好的可能特便宜卖你吗。二手车最忌讳贪便宜。正经车商的车都是有一...</td>\n",
       "      <td>价格</td>\n",
       "      <td>0</td>\n",
       "    </tr>\n",
       "    <tr>\n",
       "      <th>2355</th>\n",
       "      <td>vP56NeZdJA8jtXmF</td>\n",
       "      <td>我用的是佳明导航，跑长途的时候挂上，市内跑的时候取下来。方便实用。</td>\n",
       "      <td>配置</td>\n",
       "      <td>0</td>\n",
       "    </tr>\n",
       "    <tr>\n",
       "      <th>2356</th>\n",
       "      <td>fQnMrWegYBvTh2Ic</td>\n",
       "      <td>水温灯灭了以后。感觉变速箱有保护，不增档</td>\n",
       "      <td>动力</td>\n",
       "      <td>0</td>\n",
       "    </tr>\n",
       "    <tr>\n",
       "      <th>2357</th>\n",
       "      <td>xSTt0OV9nYkb6NEa</td>\n",
       "      <td>12款2.5xs  4at， 目前行驶10万公里。  这个车除了机油消耗大点， 能拉货， 能...</td>\n",
       "      <td>操控</td>\n",
       "      <td>0</td>\n",
       "    </tr>\n",
       "    <tr>\n",
       "      <th>2358</th>\n",
       "      <td>BfWd1cJDFQLNn3gG</td>\n",
       "      <td>我的也是斯巴鲁，你别踩刹车，按开关就断了，</td>\n",
       "      <td>安全性</td>\n",
       "      <td>0</td>\n",
       "    </tr>\n",
       "    <tr>\n",
       "      <th>2359</th>\n",
       "      <td>IoKEnR3JdXu0gG4h</td>\n",
       "      <td>我觉得斯巴鲁的CVT比奥迪的CVT还要好，新XV上的CVT更猛。已经习惯了CVT持续加速感后...</td>\n",
       "      <td>动力</td>\n",
       "      <td>0</td>\n",
       "    </tr>\n",
       "    <tr>\n",
       "      <th>2360</th>\n",
       "      <td>4p5xbNDUMLAwvzrY</td>\n",
       "      <td>全时四驱仅比一般SUV车强一点，肯定干不过Q5，XC60，连A4也干不过。水平对置仅体现在低...</td>\n",
       "      <td>动力</td>\n",
       "      <td>1</td>\n",
       "    </tr>\n",
       "    <tr>\n",
       "      <th>2361</th>\n",
       "      <td>VYJEH3N0ZkGt5Xvy</td>\n",
       "      <td>哈哈，终于看到有人开始厌烦前置雷达的声音了，这个亲，那个声音来自哪里？</td>\n",
       "      <td>舒适性</td>\n",
       "      <td>0</td>\n",
       "    </tr>\n",
       "    <tr>\n",
       "      <th>2362</th>\n",
       "      <td>iSp7q8d4eW9honmI</td>\n",
       "      <td>请教一下，变速箱油，差速器油，火花塞，分别多久更换。</td>\n",
       "      <td>动力</td>\n",
       "      <td>0</td>\n",
       "    </tr>\n",
       "    <tr>\n",
       "      <th>2363</th>\n",
       "      <td>WLHp3PYJ9FvOGXE2</td>\n",
       "      <td>求购二手１４款ＸＴ的后刹车总成。（已网购到手了）</td>\n",
       "      <td>安全性</td>\n",
       "      <td>0</td>\n",
       "    </tr>\n",
       "  </tbody>\n",
       "</table>\n",
       "<p>2364 rows × 4 columns</p>\n",
       "</div>"
      ],
      "text/plain": [
       "            content_id                                            content  \\\n",
       "0     XuPwKCnA2fqNh5vm                               欧蓝德，价格便宜，森林人太贵啦！       \n",
       "1     2jNbDn85goX3IuPE                                  楼主什么时候提的车，南昌优惠多少啊   \n",
       "2     hLgEADQ8sUnvGFK9                           吉林，2.5优惠20000，送三年九次保养，贴膜   \n",
       "3     nZmM7LQsfr03wUaz                       便宜2万的豪华特装，实用配制提升，优惠还给力，确实划算。   \n",
       "4     pwd8MnrthDqLZafe                    如果实在想买就等车展期间，优惠2万，我24.98万入的2.5豪   \n",
       "5     cudSKGTyMLbIt8k3                          2.0时尚优惠两万现金吗？还有其他赠品吗？       \n",
       "6     U5RMQtopwFzDVxHm                                       27.5 相比较优惠的少   \n",
       "7     Kh0ayJjuTrzwPAs1               综合优惠两万，不是现金优惠两万，送的垃圾东西都包含在内.大忽悠.       \n",
       "8     YZovRtEAyQJgTi1I                                  差不多15000左右的优惠       \n",
       "9     BeSIAUzoTWH9muYl                                     恭喜恭喜，这个配置性价比很高   \n",
       "10    SXYTBWg6FxuboMnd  谁还用车载导航呀！用手机导航吧及时性好！而且到港后装的机头不行，在意的话建议去换一个机头顺便...   \n",
       "11    RDgTmzW9xBfY6pGv  你好，我也是受够了16款的垃圾导航。这个美版主机哪里可以买到？安装后可以完美使用吗，有什么问...   \n",
       "12    8cMwzsxkL4XtuDG1  森林人导航确实垃圾。再好的车再好的导航都没有手机导航好用，我提车后只用了二个多月的车载导航就...   \n",
       "13    MOUrvjDsIJpbw6dQ                导航现在都用手机的，音箱没有说的那么差，就是低音差点，人声其实还可以。   \n",
       "14    t01PVoDSd9Lsy5HN     黑屏经常发生啊和手机蓝牙，连接后电话打进来根本听不到对方在说什么，想指往导航功能就会让你上火   \n",
       "15    icMQmPJA9Sv0KGTw                           传感器是在轮毂里面的，连着气门嘴的，跟轮胎没关系   \n",
       "16    VQkjM1657sIroCf3  60肯定是不行的。 原车轮胎的直径=215*0.65*2 15*25.4（一英寸=25.4毫...   \n",
       "17    1rGSYnOx9Fb2ULQX                                    那你们换的什么中控呀？       \n",
       "18    SgNFp8ixQX1HA64y                                      都这样，提高油号有所减轻。   \n",
       "19    sO6Ac1mThYBKyl4M                                    你的真费油，我在北京开才9.2   \n",
       "20    qIUiOxGdb0M4PQky                                  接孩子应该就在城区，这油耗正常的。   \n",
       "21    6GMYQa0Ag4o9nsZ2  平路上定速８０就是５个左右，我新车１０００公里内都是这样跑的，可以的。高速不过１００会更低，...   \n",
       "22    6Ewe2kxO5msAg0yU             俩车排量都不行，1.5t昂科威动力不行，比2.0t还费油，你图什么？       \n",
       "23    PMeBcRxizIaNmAC7         我13款2.5的2w公里就用30了 。 也没见什么不妥，就是油耗高一点而已。       \n",
       "24    9x4gvon6TfN0KtqY                               2000公里，平均油耗9.8的飘过~~~   \n",
       "25    Er3x8Ks6mpQqeZO0                       根据实际经验和车友反映，60-80速度区间相对比较省油。   \n",
       "26    f5UhrHg6Zztl7VWj  换轮胎应当根据个人用车情况选择，里程少的应偏重舒适性，里程多的偏重轮胎的耐磨指标。舒适性好的...   \n",
       "27    fYtbApDWqzGmKX8F  坐标深圳！我开26℃都觉得凉…动力嘛真不好说每个人感受和需求不一样…车子坐4人开了空调我倒觉...   \n",
       "28    YUWFxTOoZCkNzKcu  全车很多电器件都是松下的包括很多继电器，转向机是日本日立的，发电机是三菱的，空调压缩机是法雷...   \n",
       "29    hNVSLDr06cMsgwfI  除开这四点 森林人还有很多缺点 比如内饰做工廉价感十足 高速上了120噪音大 CVT牺牲驾驶...   \n",
       "...                ...                                                ...   \n",
       "2334  trsL1COIpBSWXMex                      总觉得棕色太商务，不过配银色车身倒是别有一番味道！恭喜??   \n",
       "2335  PE5gLlduiYGTzqsn  10款以前发动机加95号汽油，11款之后发动机改进后加92号汽油，但11款以后发动机出现了高...   \n",
       "2336  WgtvsofC74wOIYVb      这台发动机没听说过烧机油啊，我刚刚提了台SE11万公里，目前跑了4000公里没有发现烧机油   \n",
       "2337  H8jYWQ5gMADxtmuh                                  听说米其林的胎噪音低，我也正在考虑   \n",
       "2338  ouMTnWL81gZemPi9  我昨天也是试驾了2.5顶配，刹车是软……我还有个很不满意的是，喇叭太秀气啦……估计买回来得改...   \n",
       "2339  7pDJV8ab4NjH3r5e                我就是直接旋转中间的钮 开空调 默认吹脚 压缩机也好像工作 ac 没开   \n",
       "2340  hGPD9vBZgR6zNV4S                       是的，看动力选择和设计取向了，希望森林人还是那个森林人。   \n",
       "2341  2jJXvw58LHgT3RBD                    以前都是拼发动机，现在都是拼变速箱，谁有好的变速箱谁就卖得好。   \n",
       "2342  OCkifpF73WQYjoNI                        座椅上方有个上提的拉手，提着拉手后按就可以，角度不大。   \n",
       "2343  XrQJUSeIVhBib86Z  斯巴鲁的中控屏都不是原车的，原车的屏进中国就被庞大集团换了一个山寨的屏。所以不理解他们用那个...   \n",
       "2344  MF2yRZwkDtmozdPS  看来这是老款森林人又一个做工上的问题！我的同样主驾驶屁股不热后背热，并且有其它车友遇到过这个...   \n",
       "2345  Yu0EUZt54G8fiHOW                                        外观不要改太多，硬派些   \n",
       "2346  yLhg5NmjCWat4YFV  不管哪年的产物人家也是Q5底盘规格布局比森林人强得不是一星半点，就算傲虎各方面也没有资格去挑...   \n",
       "2347  0GtHsUD3ikzZoX5q                  正解。目前大家的油耗大部分都是0-20的数据。属于最省油的机油了。   \n",
       "2348  S3dNtUixLg2uVkWD                                     2.5的，双排会丢失动力吗？   \n",
       "2349  xJ1wWtb9TsYkKO5X                             转向助力 空调 发电机 真空泵需要隔减速箱？   \n",
       "2350  lr0sCcFamRVfPHn5                         我的是16款2.0，也快2万公里了，油耗8.6左右。   \n",
       "2351  H6y17JaXzxADtqer          有呀，哈哈。雪地里，方向盘打死，加油的话，确实抖。不过是后轮抖，但是前当的雪咋办？   \n",
       "2352  DJES3mRatNG7AMwz                                   可以设置的，是不是碰到中控屏膜了   \n",
       "2353  GdPUZvlCm438WtS5                                 cvt这油耗不正常。at也就12撑死   \n",
       "2354  m1rOC6jMweNH2Q9J  对一分钱一分货。换位思考人车好好的可能特便宜卖你吗。二手车最忌讳贪便宜。正经车商的车都是有一...   \n",
       "2355  vP56NeZdJA8jtXmF                  我用的是佳明导航，跑长途的时候挂上，市内跑的时候取下来。方便实用。   \n",
       "2356  fQnMrWegYBvTh2Ic                               水温灯灭了以后。感觉变速箱有保护，不增档   \n",
       "2357  xSTt0OV9nYkb6NEa  12款2.5xs  4at， 目前行驶10万公里。  这个车除了机油消耗大点， 能拉货， 能...   \n",
       "2358  BfWd1cJDFQLNn3gG                              我的也是斯巴鲁，你别踩刹车，按开关就断了，   \n",
       "2359  IoKEnR3JdXu0gG4h  我觉得斯巴鲁的CVT比奥迪的CVT还要好，新XV上的CVT更猛。已经习惯了CVT持续加速感后...   \n",
       "2360  4p5xbNDUMLAwvzrY  全时四驱仅比一般SUV车强一点，肯定干不过Q5，XC60，连A4也干不过。水平对置仅体现在低...   \n",
       "2361  VYJEH3N0ZkGt5Xvy                哈哈，终于看到有人开始厌烦前置雷达的声音了，这个亲，那个声音来自哪里？   \n",
       "2362  iSp7q8d4eW9honmI                         请教一下，变速箱油，差速器油，火花塞，分别多久更换。   \n",
       "2363  WLHp3PYJ9FvOGXE2                           求购二手１４款ＸＴ的后刹车总成。（已网购到手了）   \n",
       "\n",
       "     subject  sentiment_value  \n",
       "0         价格                1  \n",
       "1         价格                0  \n",
       "2         价格                0  \n",
       "3         价格                1  \n",
       "4         价格                0  \n",
       "5         价格                0  \n",
       "6         价格                0  \n",
       "7         价格                0  \n",
       "8         价格                0  \n",
       "9         配置                0  \n",
       "10        配置               -1  \n",
       "11        配置                0  \n",
       "12        配置               -1  \n",
       "13        配置                0  \n",
       "14        配置                0  \n",
       "15       舒适性                0  \n",
       "16       舒适性                0  \n",
       "17        配置                0  \n",
       "18        价格                0  \n",
       "19        动力                0  \n",
       "20        油耗                0  \n",
       "21        油耗                0  \n",
       "22        动力               -1  \n",
       "23        油耗                0  \n",
       "24        油耗                0  \n",
       "25        油耗                0  \n",
       "26       舒适性                1  \n",
       "27        动力                0  \n",
       "28       舒适性                0  \n",
       "29        内饰                0  \n",
       "...      ...              ...  \n",
       "2334      外观                0  \n",
       "2335      动力                0  \n",
       "2336      动力                0  \n",
       "2337     舒适性                0  \n",
       "2338     安全性                0  \n",
       "2339     舒适性                0  \n",
       "2340      动力                0  \n",
       "2341      动力                0  \n",
       "2342      内饰                0  \n",
       "2343      外观                0  \n",
       "2344      内饰                0  \n",
       "2345      外观                0  \n",
       "2346      操控                0  \n",
       "2347      油耗                0  \n",
       "2348      动力                0  \n",
       "2349     舒适性                0  \n",
       "2350      油耗                0  \n",
       "2351      操控                0  \n",
       "2352      配置                0  \n",
       "2353      油耗                0  \n",
       "2354      价格                0  \n",
       "2355      配置                0  \n",
       "2356      动力                0  \n",
       "2357      操控                0  \n",
       "2358     安全性                0  \n",
       "2359      动力                0  \n",
       "2360      动力                1  \n",
       "2361     舒适性                0  \n",
       "2362      动力                0  \n",
       "2363     安全性                0  \n",
       "\n",
       "[2364 rows x 4 columns]"
      ]
     },
     "execution_count": 56,
     "metadata": {},
     "output_type": "execute_result"
    }
   ],
   "source": [
    "test_origin_sentiment"
   ]
  },
  {
   "cell_type": "code",
   "execution_count": null,
   "metadata": {},
   "outputs": [],
   "source": [
    "test_origin_sentiment['sentiment_word']='可以'"
   ]
  },
  {
   "cell_type": "code",
   "execution_count": null,
   "metadata": {},
   "outputs": [],
   "source": [
    "pred_sentiment = test_origin_sentiment.drop(['content'], axis=1)"
   ]
  },
  {
   "cell_type": "code",
   "execution_count": null,
   "metadata": {},
   "outputs": [],
   "source": [
    "pred_sentiment.head()"
   ]
  },
  {
   "cell_type": "code",
   "execution_count": null,
   "metadata": {},
   "outputs": [],
   "source": [
    "pred_sentiment.to_csv('data/output/logRegSentiment.csv',index=False)"
   ]
  },
  {
   "cell_type": "code",
   "execution_count": null,
   "metadata": {},
   "outputs": [],
   "source": [
    "tes"
   ]
  }
 ],
 "metadata": {
  "kernelspec": {
   "display_name": "Python 3",
   "language": "python",
   "name": "python3"
  },
  "language_info": {
   "codemirror_mode": {
    "name": "ipython",
    "version": 3
   },
   "file_extension": ".py",
   "mimetype": "text/x-python",
   "name": "python",
   "nbconvert_exporter": "python",
   "pygments_lexer": "ipython3",
   "version": "3.6.5"
  }
 },
 "nbformat": 4,
 "nbformat_minor": 2
}
